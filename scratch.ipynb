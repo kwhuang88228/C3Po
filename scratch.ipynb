{
 "cells": [
  {
   "cell_type": "code",
   "execution_count": 1,
   "metadata": {},
   "outputs": [
    {
     "name": "stderr",
     "output_type": "stream",
     "text": [
      "/home/kh775/.conda/envs/dust3r/lib/python3.11/site-packages/tqdm/auto.py:21: TqdmWarning: IProgress not found. Please update jupyter and ipywidgets. See https://ipywidgets.readthedocs.io/en/stable/user_install.html\n",
      "  from .autonotebook import tqdm as notebook_tqdm\n"
     ]
    },
    {
     "ename": "SyntaxError",
     "evalue": "keyword argument repeated: collate_fn (__init__.py, line 89)",
     "output_type": "error",
     "traceback": [
      "Traceback \u001b[0;36m(most recent call last)\u001b[0m:\n",
      "\u001b[0m  File \u001b[1;32m~/.conda/envs/dust3r/lib/python3.11/site-packages/IPython/core/interactiveshell.py:3577\u001b[0m in \u001b[1;35mrun_code\u001b[0m\n    exec(code_obj, self.user_global_ns, self.user_ns)\u001b[0m\n",
      "\u001b[0m  Cell \u001b[1;32mIn[1], line 4\u001b[0m\n    from dust3r.training import build_dataset\u001b[0m\n",
      "\u001b[0;36m  File \u001b[0;32m/share/phoenix/nfs06/S9/kh775/code/dust3r/dust3r/training.py:32\u001b[0;36m\n\u001b[0;31m    from dust3r.datasets import get_data_loader  # noqa\u001b[0;36m\n",
      "\u001b[0;36m  File \u001b[0;32m/share/phoenix/nfs06/S9/kh775/code/dust3r/dust3r/datasets/__init__.py:89\u001b[0;36m\u001b[0m\n\u001b[0;31m    collate_fn=collate_fn,\u001b[0m\n\u001b[0m    ^\u001b[0m\n\u001b[0;31mSyntaxError\u001b[0m\u001b[0;31m:\u001b[0m keyword argument repeated: collate_fn\n"
     ]
    }
   ],
   "source": [
    "import os\n",
    "from os import listdir\n",
    "from os.path import isdir, join\n",
    "from dust3r.training import build_dataset\n",
    "import numpy as np"
   ]
  },
  {
   "cell_type": "code",
   "execution_count": null,
   "metadata": {},
   "outputs": [],
   "source": [
    "train_dataset = \"MegaScenesAugmented(data_dir='/share/phoenix/nfs06/S9/kh775/code/wsfm/scripts/data/keypoint_localization/data/', image_dir='/share/phoenix/nfs06/S9/kh775/dataset/megascenes_augmented_exhaustive/', split='train', resolution=[(512, 512)])\"\n",
    "batch_size = 2\n",
    "data_loader_train = build_dataset(train_dataset, batch_size, num_workers=1, test=False)"
   ]
  },
  {
   "cell_type": "code",
   "execution_count": null,
   "metadata": {},
   "outputs": [],
   "source": [
    "import matplotlib.pyplot as plt\n",
    "def reverse_ImgNorm(np_array):\n",
    "    np_array = np_array * 0.5 + 0.5\n",
    "    np_array *= 255.0\n",
    "    np_array = np_array.clip(0, 255).astype(np.uint8)\n",
    "    return np_array\n",
    "def viz(view1, view2):\n",
    "    for b in range(batch_size):\n",
    "        img1 = view1[\"img\"][b].permute(1, 2, 0).numpy()\n",
    "        img2 = view2[\"img\"][b].permute(1, 2, 0).numpy()\n",
    "        plan_xys = view1[\"plan_xys\"][b]\n",
    "        image_xys = view1[\"image_xys\"][b]\n",
    "        plt.figure(figsize=(12, 12))\n",
    "        plt.subplot(121).imshow(reverse_ImgNorm(img1))\n",
    "        plt.subplot(121).scatter(plan_xys[:,0], plan_xys[:,1], s=2)\n",
    "        # plt.title(f\"{img1.shape}, {view1['resolution']}\")\n",
    "        plt.subplot(122).imshow(reverse_ImgNorm(img2))\n",
    "        plt.subplot(122).scatter(image_xys[:,0], image_xys[:,1], s=2)\n",
    "        # plt.title(f\"{img2.shape}, {view2['resolution']}\")\n",
    "        # plt.title(f\"{view1['landmark']}-{view1['comp']}\")\n",
    "        plt.show()"
   ]
  },
  {
   "cell_type": "code",
   "execution_count": null,
   "metadata": {},
   "outputs": [],
   "source": [
    "for i, b in enumerate(data_loader_train):\n",
    "    if i < 10:\n",
    "        view1, view2 = b\n",
    "        viz(view1, view2)\n",
    "    else:\n",
    "        break"
   ]
  },
  {
   "cell_type": "code",
   "execution_count": null,
   "metadata": {},
   "outputs": [],
   "source": []
  }
 ],
 "metadata": {
  "kernelspec": {
   "display_name": "Python 3",
   "language": "python",
   "name": "python3"
  },
  "language_info": {
   "codemirror_mode": {
    "name": "ipython",
    "version": 3
   },
   "file_extension": ".py",
   "mimetype": "text/x-python",
   "name": "python",
   "nbconvert_exporter": "python",
   "pygments_lexer": "ipython3",
   "version": "3.11.9"
  }
 },
 "nbformat": 4,
 "nbformat_minor": 2
}
